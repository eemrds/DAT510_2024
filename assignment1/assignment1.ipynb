{
 "cells": [
  {
   "cell_type": "markdown",
   "metadata": {},
   "source": [
    "# DAT 510: Assignment 1\n",
    "\n",
    "Erik Martin 250660"
   ]
  },
  {
   "cell_type": "code",
   "execution_count": 1,
   "metadata": {},
   "outputs": [
    {
     "name": "stdout",
     "output_type": "stream",
     "text": [
      "Note: you may need to restart the kernel to use updated packages.\n",
      "Note: you may need to restart the kernel to use updated packages.\n",
      "Note: you may need to restart the kernel to use updated packages.\n",
      "Note: you may need to restart the kernel to use updated packages.\n"
     ]
    }
   ],
   "source": [
    "%pip install numpy -q\n",
    "%pip install ipytest -q\n",
    "%pip install pandas -q\n",
    "%pip install matplotlib -q\n"
   ]
  },
  {
   "cell_type": "code",
   "execution_count": 2,
   "metadata": {},
   "outputs": [],
   "source": [
    "import math\n",
    "import numpy as np\n",
    "import ipytest\n",
    "\n",
    "ipytest.autoconfig()"
   ]
  },
  {
   "cell_type": "markdown",
   "metadata": {},
   "source": [
    "# Task 1"
   ]
  },
  {
   "cell_type": "code",
   "execution_count": 3,
   "metadata": {},
   "outputs": [],
   "source": [
    "def caesar(text: str, shift: int) -> str:\n",
    "    \"\"\"Substitute the text using the Caesar cipher.\n",
    "\n",
    "    The caesar cipher is a substitution cipher where the letters are shifted in \n",
    "    a fixed direction with an x amount of positions. When you create a shifted\n",
    "    vocabulary, you can easilly map the letters and get a \"cipher\" text. The\n",
    "    Caesar cipher is very old so the security very low, but to the untrained eye\n",
    "    it can be hard to decipher manually \n",
    "    [wikipedia](https://en.wikipedia.org/wiki/Caesar_cipher#example)\n",
    "\n",
    "    Args:\n",
    "        text: The text to substitute.\n",
    "        shift: The key to use for the substitution.\n",
    "\n",
    "    Returns:\n",
    "        The substituted text.\n",
    "    \"\"\"\n",
    "    # Create a dictionary of the alphabet with the Caesar cipher key\n",
    "    alphabet = {chr(i + 65): chr((i + shift) % 26 + 65) for i in range(26)}\n",
    "    return \"\".join([alphabet[c] for c in text])"
   ]
  },
  {
   "cell_type": "code",
   "execution_count": 4,
   "metadata": {},
   "outputs": [],
   "source": [
    "def columnar(text: str, key: int) -> str:\n",
    "    \"\"\"Transpose the text using the transposition cipher.\n",
    "\n",
    "    A transposition cipher is an encryption method that relies on rearranging\n",
    "    the letters in the plaintext to produce the ciphertext. Row-column\n",
    "    transposition is a simple transposition cipher that enters the plaintext\n",
    "    into a matrix row by row, then reads the matrix column by column in a\n",
    "    specific order. The order is dependent on the key. Meaning that the amount\n",
    "    of columns has to be equal to the number of digits in the key. The key\n",
    "    should also be a permutation of the numbers 1 - n, in a randomised order. If\n",
    "    the length of the text is not divisible by the key, the text should be\n",
    "    padded with a filler character, such as \"X\".\n",
    "    [wikipedia](https://en.wikipedia.org/wiki/Transposition_cipher#Columnar_transposition)\n",
    "\n",
    "    To simplify the implementation in code, the matrix is transposed and the the\n",
    "    matrix is read row by row again. This is equivalent to reading the matrix\n",
    "    column by column.\n",
    "\n",
    "    Args:\n",
    "        text: The text to transpose.\n",
    "        key: The key\n",
    "\n",
    "    Returns:\n",
    "        The transposed text.\n",
    "    \"\"\"\n",
    "    kl = [int(i) for i in str(key)]\n",
    "    cols = len(kl)\n",
    "    rows = math.ceil(len(text) / cols)\n",
    "\n",
    "    # Pad with \"X\" until the text is divisible by the key length\n",
    "    text = text.ljust(rows * cols, \"X\")\n",
    "\n",
    "    # Create a matrix from the text\n",
    "    m = np.array(list(text)).reshape(rows, cols).T\n",
    "\n",
    "    # Read the matrix in the order specified by the key\n",
    "    return \"\".join([\"\".join(m[kl.index(i)]) for i in range(1, cols + 1)])"
   ]
  },
  {
   "cell_type": "code",
   "execution_count": 5,
   "metadata": {},
   "outputs": [],
   "source": [
    "def encrypt(text: str, key: int, sub_key: int) -> str:\n",
    "    \"\"\"Encrypt the text using the Caesar and transposition ciphers.\n",
    "\n",
    "    Encrypts a plaintext in the order of:\n",
    "    1. Substitution using the Caesar cipher.\n",
    "    2. Transposition using the columnar transposition cipher.\n",
    "\n",
    "    This order helps eliminate predictable patterns in the text which frequency \n",
    "    analysis reveal by checking for letter frequencies, and common letter\n",
    "    combinations (digraphs, trigraphs, etc.). `E` is the most common letter in\n",
    "    the English alphabet, `TH` the most common digraph, and `THE` the most \n",
    "    common trigraph. By looking for these patterns, it is possible to deduce the\n",
    "    key. \n",
    "\n",
    "    Args:\n",
    "        text: The text to encrypt.\n",
    "        key: The key to use for the encryption.\n",
    "        sub_key: The key to use for the substitution.\n",
    "\n",
    "    Returns:\n",
    "        The encrypted text.\n",
    "    \"\"\"\n",
    "    text = \"\".join(text).replace(\" \", \"\").upper()\n",
    "    return columnar(caesar(text, sub_key), key)"
   ]
  },
  {
   "cell_type": "code",
   "execution_count": 6,
   "metadata": {},
   "outputs": [],
   "source": [
    "def decrypt(text: str, key: int, sub_key) -> str:\n",
    "    \"\"\"Decrypt the text using the transposition and Caesar ciphers.\n",
    "\n",
    "    Decrypt the text by using the encryption process in reverse. First it reads\n",
    "    the text into a matrix, which now has the dimension of  `n x m` instead of \n",
    "    `m x n`. Aka, if the key was 1234 and the text was \"HELLOWORLD\", the matrix\n",
    "    during encryption would be: `4 x 2 -> 2 x 4`, but now it would be \n",
    "    `2 x 4 -> 4 x 2`. The is then again transposed and reorganized in the order\n",
    "    of the key. Then the text is decrypted using the inverse Caesar cipher key.\n",
    "\n",
    "    Args:\n",
    "        text: The text to decrypt\n",
    "        key: The key for encrypting\n",
    "\n",
    "    Returns:\n",
    "        The decrypted text.\n",
    "    \"\"\"\n",
    "    kl = [int(i) for i in str(key)]\n",
    "    # Matrix columns is the length of the key\n",
    "    cols = len(kl)\n",
    "    # Matrix rows is the length of the text / number of cols rounded up.\n",
    "    rows = math.ceil(len(text) / cols)\n",
    "\n",
    "    tmp_m = [\"\"] * cols\n",
    "\n",
    "    # Create a matrix from the text\n",
    "    m = np.array(list(text)).reshape(cols, rows)\n",
    "\n",
    "    # Read the matrix in the order specified by the key and push it to the temporary matrix\n",
    "    for i, row in enumerate(m):\n",
    "        k = kl.index(i + 1)\n",
    "        tmp_m[k] = [str(c) for c in row]\n",
    "\n",
    "    # Convert the temporary matrix to a np matrix and transpose\n",
    "    m = np.array(tmp_m).T\n",
    "\n",
    "    cipher = \"\".join([\"\".join(row) for row in m])\n",
    "\n",
    "    # Decrypt the text using the inverse Caesar cipher key\n",
    "    sub_key = 26 - sub_key\n",
    "    return caesar(cipher, sub_key)"
   ]
  },
  {
   "cell_type": "code",
   "execution_count": 7,
   "metadata": {},
   "outputs": [
    {
     "name": "stdout",
     "output_type": "stream",
     "text": [
      "JWNPRFWYNSXJHZWNYDFSIAZQSJWFGNQNYDNSSJYBTWPX\n",
      "WWJYAWNSWPNZFQGDYXJFXNIJQSTNYHDZFYJPRSWSSNNBX\n",
      "WWJYAWNSWPNZFQGDYXJFXNIJQSTNYHDZFYJPRSWSSNNBC\n"
     ]
    }
   ],
   "source": [
    "plaintext = \"Erik Martin Security and Vulnerability in Networks\"\n",
    "plaintext = plaintext.replace(\" \", \"\").upper()\n",
    "key = 31425\n",
    "sub_key = 5\n",
    "substituted = caesar(plaintext, sub_key)\n",
    "print(substituted)\n",
    "transposed = columnar(substituted, key)\n",
    "print(transposed)\n",
    "\n",
    "print(caesar(columnar(plaintext, key), sub_key))"
   ]
  },
  {
   "cell_type": "code",
   "execution_count": 8,
   "metadata": {},
   "outputs": [
    {
     "data": {
      "text/plain": [
       "'ERIKMARTINSECURITYANDVULNERABILITYINNETWORKSS'"
      ]
     },
     "execution_count": 8,
     "metadata": {},
     "output_type": "execute_result"
    }
   ],
   "source": [
    "decrypt(transposed, key, sub_key)"
   ]
  },
  {
   "cell_type": "code",
   "execution_count": 9,
   "metadata": {},
   "outputs": [
    {
     "name": "stdout",
     "output_type": "stream",
     "text": [
      "\u001b[1m======================================= test session starts ========================================\u001b[0m\n",
      "platform linux -- Python 3.11.9, pytest-8.3.2, pluggy-1.5.0 -- /home/emrds/.conda/envs/net-sec/bin/python\n",
      "cachedir: .pytest_cache\n",
      "rootdir: /home/emrds/school/dat510-networksecurity/assignment1\n",
      "plugins: typeguard-4.3.0\n",
      "\u001b[1mcollecting ... \u001b[0mcollected 3 items\n",
      "\n",
      "t_be741ac3455f41d28758eadf96e1f205.py::test_caesar \u001b[32mPASSED\u001b[0m\u001b[32m                                    [ 33%]\u001b[0m\n",
      "t_be741ac3455f41d28758eadf96e1f205.py::test_columnar \u001b[32mPASSED\u001b[0m\u001b[32m                                  [ 66%]\u001b[0m\n",
      "t_be741ac3455f41d28758eadf96e1f205.py::test_decrypt \u001b[32mPASSED\u001b[0m\u001b[32m                                   [100%]\u001b[0m\n",
      "\n",
      "\u001b[32m======================================== \u001b[32m\u001b[1m3 passed\u001b[0m\u001b[32m in 0.01s\u001b[0m\u001b[32m =========================================\u001b[0m\n"
     ]
    },
    {
     "data": {
      "text/plain": [
       "<ExitCode.OK: 0>"
      ]
     },
     "execution_count": 9,
     "metadata": {},
     "output_type": "execute_result"
    }
   ],
   "source": [
    "def test_caesar():\n",
    "    assert caesar(\"HELLO\", 5) == \"MJQQT\"\n",
    "    assert caesar(\"HELLO\", 2) == \"JGNNQ\"\n",
    "    assert caesar(\"HELLO\", 1) == \"IFMMP\"\n",
    "\n",
    "\n",
    "def test_columnar():\n",
    "    assert columnar(\"HELLO\", 213) == \"EOHLLX\"\n",
    "    assert columnar(\"HELLO\", 123) == \"HLEOLX\"\n",
    "\n",
    "\n",
    "def test_decrypt():\n",
    "    string = \"THISISATESTSTRING\"\n",
    "    key = 2134\n",
    "    sub_key = 4\n",
    "    assert (\n",
    "        decrypt(encrypt(string, key, sub_key), key, sub_key)\n",
    "        == \"THISISATESTSTRINGTTT\"\n",
    "    )\n",
    "    key = 3214\n",
    "    sub_key = 14\n",
    "    assert (\n",
    "        decrypt(encrypt(string, key, sub_key), key, sub_key)\n",
    "        == \"THISISATESTSTRINGJJJ\"\n",
    "    )\n",
    "\n",
    "\n",
    "ipytest.run(\"-vv\")"
   ]
  },
  {
   "cell_type": "code",
   "execution_count": 10,
   "metadata": {},
   "outputs": [],
   "source": [
    "import time\n",
    "from typing import Callable\n",
    "\n",
    "\n",
    "def analyze_avalanche_effect(\n",
    "    encryption_method: Callable, original: str, changed: str, key: int = None, sub_key: int = None, iv: bytes | None = None, keys=None, start: float = time.time(), \n",
    ") -> tuple[int, float, str, str]:\n",
    "    \"\"\"Analyze the avalanche effect of two strings.\n",
    "    \n",
    "    Analyze the avalanche effect of two strings by comparing the two encrypted\n",
    "    strings. Both with the same plaintext, but with some predefined differences.\n",
    "    To idea to convert the string to binary was taken from \n",
    "    [start overflow](https://stackoverflow.com/a/18815890). It idea is to\n",
    "    convert the string to a bytearray and then format it to binary.\n",
    "\n",
    "    Args:\n",
    "        encryption_method: The function to encrypt with.\n",
    "        original: The original cipher text.\n",
    "        changed: The changed cipher text.\n",
    "        key: The transposition key.\n",
    "        sub_key: The substitution key.\n",
    "        iv: The initialization vector.\n",
    "        keys: The keys for the encryption method.\n",
    "\n",
    "    Returns:\n",
    "        (avalance_effect, time, original_cipher, changed_cipher)\n",
    "    \"\"\"\n",
    "    # Give different parameters to the different encryption methods depending on\n",
    "    # Parameter\n",
    "    if iv:\n",
    "        original = encryption_method(original, key, sub_key, iv)\n",
    "        changed = encryption_method(changed, key, sub_key, iv)\n",
    "        str1 = bytearray(original, \"utf-8\")\n",
    "        str2 = bytearray(changed, \"utf-8\")\n",
    "    elif keys:\n",
    "        original = encryption_method(original, keys)\n",
    "        changed = encryption_method(changed, keys)\n",
    "        str1 = bytearray(original)\n",
    "        str2 = bytearray(changed)\n",
    "    else:\n",
    "        original = encryption_method(original, key, sub_key)\n",
    "        changed = encryption_method(changed, key, sub_key)\n",
    "        str1 = bytearray(original, \"utf-8\")\n",
    "        str2 = bytearray(changed, \"utf-8\")\n",
    "\n",
    "    # Compare each of the characters/bytes and count the amount of differing ones.\n",
    "    changes = sum(format(b1, \"b\") != format(b2, \"b\") for b1, b2 in zip(str1, str2))\n",
    "    \n",
    "    return (changes / len(str1)) * 100, (time.time() - start) * 1000, original, changed"
   ]
  },
  {
   "cell_type": "code",
   "execution_count": 11,
   "metadata": {},
   "outputs": [
    {
     "name": "stdout",
     "output_type": "stream",
     "text": [
      "ERIKMARTINSECURITYANDVULNERABILITYINNETWORKS\n",
      "RRIKMARTINSECURITYANDVULNERABILITYINNETWORKS\n",
      "(2.2222222222222223, 23.708105087280273, 'WWJYAWNSWPNZFQGDYXJFXNIJQSTNYHDZFYJPRSWSSNNBX', 'WWJYAWNSWPNZFQGDYXWFXNIJQSTNYHDZFYJPRSWSSNNBX')\n"
     ]
    }
   ],
   "source": [
    "original = plaintext[:]\n",
    "changed = \"R\" + plaintext[1:]\n",
    "print(original)\n",
    "print(changed)\n",
    "\n",
    "# Since only one letter was changed the avalanch effect (1/len(plaintext) * 100\n",
    "print(analyze_avalanche_effect(encrypt, original, changed, key, sub_key))"
   ]
  },
  {
   "cell_type": "code",
   "execution_count": 12,
   "metadata": {},
   "outputs": [],
   "source": [
    "from typing import Callable\n",
    "import pandas as pd\n",
    "\n",
    "\n",
    "def repeated_encrypt(\n",
    "    encryption_method: Callable,\n",
    "    text: str,\n",
    "    key: int,\n",
    "    sub_key: int,\n",
    "    rounds: int,\n",
    "    swap: dict[int, str] = {2: \"X\"},\n",
    ") -> pd.DataFrame:\n",
    "    \"\"\"Repeatedly encrypt the text using the Caesar and transposition ciphers.\n",
    "\n",
    "    Args:\n",
    "        encryption_method: The function to encrypt with.\n",
    "        text: The plaintext.\n",
    "        key: The transposition key.\n",
    "        sub_key: The Caesar key.\n",
    "        rounds: Number of rounds to encrypt.\n",
    "        swap: A dictionary with index as key and the character to swap to as value.\n",
    "\n",
    "def feistel_encrypt(plaintext: str, keys: list[str]) -> bytes:\n",
    "    \"\"\"\n",
    "    \"\"\"\n",
    "    if isinstance(plaintext, bytes):\n",
    "        plaintext = plaintext.decode(\"utf-8\")\n",
    "    plaintext = plaintext.replace(\" \", \"\").upper()\n",
    "    return feistel(plaintext, keys)\n",
    "\n",
    "    Returns:\n",
    "        Dataframe with the avalanche effect and time for each round.\n",
    "    \"\"\"\n",
    "    # Initially create two copies of the plaintext where one letter is changed\n",
    "    original = plaintext\n",
    "    changed = text\n",
    "    start = time.time()\n",
    "\n",
    "\n",
    "    # Change the desired values in the plaintext before encrypting\n",
    "    for k, v in swap.items():\n",
    "        changed = changed[:k] + v + changed[k + 1 :]\n",
    "    \n",
    "    original = encryption_method(original, key, sub_key)\n",
    "    changed = encryption_method(changed, key, sub_key)\n",
    "    df = pd.DataFrame(columns=[\"Avalanche Effect\", \"Time\"])\n",
    "\n",
    "    for i in range(rounds):\n",
    "        effect, t, original, changed = analyze_avalanche_effect(encryption_method, original, changed, key, sub_key)\n",
    "        df.loc[i] = [effect, t]\n",
    "    return df"
   ]
  },
  {
   "cell_type": "code",
   "execution_count": 13,
   "metadata": {},
   "outputs": [],
   "source": [
    "from matplotlib import pyplot as plt\n",
    "\n",
    "# Create a list of the avalanche effect and time for each round\n",
    "df_1_bitchange = repeated_encrypt(encrypt, plaintext, key, sub_key, 16, {2: \"X\"})\n",
    "df_2_bitchange = repeated_encrypt(encrypt, plaintext, key, sub_key, 16, {2: \"X\", 8: \"G\"})\n",
    "df_3_bitchange = repeated_encrypt(encrypt, plaintext, key, sub_key, 16, {2: \"X\", 8: \"G\", 12: \"Y\"})\n",
    "df_4_bitchange = repeated_encrypt(encrypt, plaintext, key, sub_key, 16, {2: \"X\", 8: \"G\", 12: \"Y\", 15: \"Z\"})\n",
    "\n",
    "\n",
    "def create_plot(dfs: list[tuple[pd.DataFrame, int]]):\n",
    "\n",
    "    # Plot the avalanche effect\n",
    "    fig, ax = plt.subplots(2, 1, figsize=(10, 8))\n",
    "    ns = [dfs[i][1] for i in range(len(dfs))]\n",
    "    for df, n in dfs:\n",
    "        ax[0].plot(df[\"Avalanche Effect\"])\n",
    "        ax[0].set_xlabel(\"Rounds\")\n",
    "        ax[0].set_ylabel(\"Avalanche Effect (%)\")\n",
    "        ax[0].set_title(f\"Avalanche Effect Over Time for when bits are changed\")\n",
    "\n",
    "        # Plot the time\n",
    "        ax[1].plot(df[\"Time\"])\n",
    "        ax[1].set_xlabel(\"Rounds\")\n",
    "        ax[1].set_ylabel(\"Time (ms)\")\n",
    "        ax[1].set_title(\n",
    "            f\"Calculation Time for Avalanche Effect Analysis when bits are changed\"\n",
    "        )\n",
    "    ax[0].legend([f\"{n} bits changed\" for n in ns])\n",
    "    ax[1].legend([f\"{n} bits changed\" for n in ns])\n",
    "\n",
    "    plt.show()"
   ]
  },
  {
   "cell_type": "code",
   "execution_count": 14,
   "metadata": {},
   "outputs": [
    {
     "data": {
      "image/png": "[encoded data removed]",
      "text/plain": [
       "<Figure size 1000x800 with 2 Axes>"
      ]
     },
     "metadata": {},
     "output_type": "display_data"
    }
   ],
   "source": [
    "dfs = [\n",
    "    (df_1_bitchange, 1),\n",
    "    (df_2_bitchange, 2),\n",
    "    (df_3_bitchange, 3),\n",
    "    (df_4_bitchange, 4),\n",
    "]\n",
    "# Even when multiple bits are changed. The \n",
    "create_plot(dfs)"
   ]
  },
  {
   "cell_type": "code",
   "execution_count": 15,
   "metadata": {},
   "outputs": [],
   "source": [
    "def feistel(cipher: str, keys: bytearray, rounds: int = 16) -> bytes:\n",
    "    \"\"\"Encrypt the text using the Feistel cipher.\n",
    "\n",
    "    The Feistel cipher uses mulitple keys for encryption. It splits the text into two\n",
    "    and one part with the key and the other with the result of the first xor operation.\n",
    "    [feistel structure](https://en.wikipedia.org/wiki/Feistel_cipher#Design)\n",
    "    \n",
    "    Args:\n",
    "        cipher: The text to encrypt.\n",
    "        keys: The keys to use for the encryption.\n",
    "        rounds: The number of rounds to encrypt.\n",
    "\n",
    "    Returns:\n",
    "        The encrypted text.\n",
    "    \"\"\"\n",
    "    def xor(a: bytes, b: bytes) -> bytes:\n",
    "        return bytes([a ^ b for a, b in zip(a, b)])\n",
    "    \n",
    "    left = bytearray(cipher[:len(cipher) // 2], \"utf-8\")\n",
    "    right = bytearray(cipher[len(cipher) // 2:], \"utf-8\")\n",
    "\n",
    "    for i in range(rounds):\n",
    "        key = keys[i % len(keys)]\n",
    "        tmp_left = right\n",
    "        round_res = xor(left, key)\n",
    "        right = xor(round_res, right)\n",
    "        left = tmp_left\n",
    "    return left + right"
   ]
  },
  {
   "cell_type": "code",
   "execution_count": 16,
   "metadata": {},
   "outputs": [
    {
     "name": "stdout",
     "output_type": "stream",
     "text": [
      "[bytearray(b'IQKLDCCHSDUILCQRWXUBOC'), bytearray(b'DEYIZYPVQMMPQHWFNGRLSO'), bytearray(b'CQEUWJNUDOCOYBNJAWLHBX'), bytearray(b'GRYESGKQYACOQOCZEALJKH'), bytearray(b'HYRGPGCGYORSESHKHLCRSE'), bytearray(b'CAGOMDVCJYZZSCBMXXLWWY'), bytearray(b'RBILZWCMLLLCQIJFZPGIWT'), bytearray(b'LVUSCWDGCAENPWHKXBLDWY'), bytearray(b'GSBSAVJENCKNDIRBJVPCDV'), bytearray(b'MSAYSVMTUYCEURJELSXMOM'), bytearray(b'DNJQHFIJUBAEGZRFXEJZOP'), bytearray(b'XIPIIZSATGVIARBKFZIGLN'), bytearray(b'CDZHXJGXKESWHCPCTHHMCZ'), bytearray(b'VIHLGBPIIRXMQFZQZFTZVM'), bytearray(b'ZOUXTILSUKNOMGHZICOTAD'), bytearray(b'XXVPIVWVJRGTJXXVEHVUMK')]\n",
      "b'BDW]RGA]ZC]AYCE@T]ZGY@_UTRVRKRVY@BSJRFIT@GA['\n"
     ]
    }
   ],
   "source": [
    "import random as rand\n",
    "\n",
    "num_rounds = 16\n",
    "keys = [bytearray([rand.randint(65, 90) for _ in range(len(plaintext) // 2)]) for _ in range(num_rounds)]\n",
    "print(keys)\n",
    "cipher = feistel(plaintext, keys)\n",
    "print(cipher)"
   ]
  },
  {
   "cell_type": "code",
   "execution_count": 17,
   "metadata": {},
   "outputs": [
    {
     "name": "stdout",
     "output_type": "stream",
     "text": [
      "2.272727272727273\n",
      "4.545454545454546\n",
      "2.272727272727273\n",
      "2.272727272727273\n",
      "4.545454545454546\n",
      "2.272727272727273\n",
      "2.272727272727273\n",
      "4.545454545454546\n",
      "2.272727272727273\n",
      "2.272727272727273\n",
      "4.545454545454546\n",
      "2.272727272727273\n",
      "2.272727272727273\n",
      "4.545454545454546\n",
      "2.272727272727273\n",
      "2.272727272727273\n"
     ]
    }
   ],
   "source": [
    "ori = encrypt(plaintext[:], key, sub_key)\n",
    "cha = encrypt(\"R\" + plaintext[1:], key, sub_key)\n",
    "\n",
    "# Testing the avalanche effect for the Feistel cipher\n",
    "for i in range(16):\n",
    "    ae, t, ori, cha = analyze_avalanche_effect(feistel, ori, cha, keys=keys)\n",
    "    ori = ori.decode(\"utf-8\")\n",
    "    cha = cha.decode(\"utf-8\")\n",
    "    print(ae)"
   ]
  },
  {
   "cell_type": "code",
   "execution_count": 18,
   "metadata": {},
   "outputs": [
    {
     "name": "stdout",
     "output_type": "stream",
     "text": [
      "\n",
      "avalanche effect:\n",
      "(13.333333333333334, 771.5861797332764, 'FTYKBJHYPTJKJIAXGPJKQFFMFBZHNHFAHHTWWPAGGGJHW', 'FTYKBJHYPTJKJIAXJPJKJFFMFBZGNHFAHITWJPAGJGJHW')\n",
      "CBC with different block_sizes\n",
      "\n",
      "Block size: 4\n",
      "Avalanche Effect: 13.333333\n",
      "Execution time: 771.9597816467285\n",
      "Original: MZGJXUGRQXOOHHXJJQGXJIWEXKSJJXFJFFXTHILXKJBGXGZGCXZIZQXXXTXX\n",
      ".Changed: MZGJXUGRQXOOHHXJJQGXJIWLXKHJJXAJFFXTHDLXKJBPXGIGCXKIZQXXXIXX\n",
      "\n",
      "\n",
      "Block size: 8\n",
      "Avalanche Effect: 7.272727\n",
      "Execution time: 772.1447944641113\n",
      "Original: EHKXMKMHDXNPTXXFMJOXDJXXANFFFXGLFXYPJHDXYKDXIIRAOXMBPTK\n",
      ".Changed: EHKXMKMHDXNPTXXFMJOXDJXXANKFFXGOFXYPJHDXBKDXIIRAOXMBYTK\n",
      "\n",
      "\n",
      "Block size: 10\n",
      "Avalanche Effect: 6.666667\n",
      "Execution time: 772.3026275634766\n",
      "Original: LUGAALEHVISHVHLNIVLSPGTYKKIDGAKEFVRKBWIXOZDNL\n",
      ".Changed: LUGAALEHVISHVILNIVLSPGGYKKIDGAKEFVRKIWIXOZDNL\n",
      "\n",
      "\n",
      "Block size: 12\n",
      "Avalanche Effect: 5.454545\n",
      "Execution time: 772.4485397338867\n",
      "Original: XOQBHXHXGVJXJDXJTJHWXXFGBXXKDXGZDPIXEVJFHXTEXQOIJCFAZFX\n",
      ".Changed: XOQBHXHXGVJXJDXJWJHWXXFGBXXKDXJZDPIXEVJFHXTEXQOIJDFAZFX\n",
      "\n",
      "\n",
      "Block size: 16\n",
      "Avalanche Effect: 3.636364\n",
      "Execution time: 772.5832462310791\n",
      "Original: XDWXNYEXLHILGGSXIRTXZRLXXGGXUAGTKJJXFAWXOVXDLXHZQHKILSX\n",
      ".Changed: XDWXNYEXLHILGGSXIRTXZRLXXGGXUAGTFJJXFAWXOVXDLXHZQHKXLSX\n",
      "\n"
     ]
    }
   ],
   "source": [
    "\n",
    "\n",
    "def get_iv(block_size: int) -> bytes:\n",
    "    \"\"\"Creates the Initial Vector to use in the first round of block xor-ing.\n",
    "    \n",
    "    Create a random string  of bytes of the given blocksize\n",
    "\n",
    "    Args:\n",
    "        block_size: The size of the block that should be creates.\n",
    "    \n",
    "    Returns:\n",
    "        iv of bytes\n",
    "    \"\"\"\n",
    "    return \"\".join(rand.choices([chr(rand.randint(65, 90)) for _ in range(block_size)], k=block_size))\n",
    "\n",
    "def cbc(cipher: str, iv: bytes, key, sub_key) -> bytes:\n",
    "    \"\"\"Encrypts the cipher with a cipher block chaining mode.\n",
    "\n",
    "    Args:\n",
    "        cipher: The cipher text.\n",
    "        iv: The initial vector.\n",
    "\n",
    "    Returns:\n",
    "        bytes of the cipher text\n",
    "    \"\"\"\n",
    "    block_size = len(iv)\n",
    "    # Split into blocks of block_size\n",
    "    blocks = [cipher[i:i+block_size] for i in range(0, len(cipher), block_size)]\n",
    "\n",
    "    cbc_cipher = \"\"\n",
    "    # XOR each character with eachother in each block and use the previous block\n",
    "    # to xor with the next.\n",
    "    for block in blocks:\n",
    "        cipher_block = [chr(((ord(a) - 65) ^ (ord(b) - 65)) % 26 + 65) for a, b in zip(block, iv)]\n",
    "        cipher_block = encrypt(cipher_block, key, sub_key)\n",
    "        cbc_cipher += cipher_block\n",
    "        iv = cipher_block\n",
    "        \n",
    "    return cbc_cipher\n",
    "\n",
    "def cbc_encrypt(plaintext: str, key: int, sub_key: int, iv: str) -> bytes:\n",
    "    \"\"\"Applies the cbc encryption mode after the caesar + columnar transposition.\n",
    "\n",
    "    CBC mode is a block cipher mode that works by splitting the plaintext into\n",
    "    blocks and xor-ing each block with the previous block. The first block is\n",
    "    xor-ed with the initial vector, which is a random string of bytes.\n",
    "    [CBC mode](https://en.wikipedia.org/wiki/Block_cipher_mode_of_operation#Cipher_block_chaining_(CBC))\n",
    "    \n",
    "    Args:\n",
    "        plaintext: The text to encrypt.\n",
    "        key: The key for the transposition.\n",
    "        sub_key: The key for the ceasar cipher.\n",
    "        iv: The initial vector for the cbc encryption.\n",
    "        \n",
    "    Returns:\n",
    "        bytes of the encrypted text.\n",
    "    \"\"\"\n",
    "    cipher = encrypt(plaintext, key, sub_key)\n",
    "    cbc_cipher = cbc(cipher, iv, key, sub_key)\n",
    "    return cbc_cipher\n",
    "\n",
    "\n",
    "block_size = 5\n",
    "iv = get_iv(block_size)\n",
    "\n",
    "print(\"\\navalanche effect:\")\n",
    "# Even with the CBC mode, the avalanch effect is still low.\n",
    "avalanche_effect = analyze_avalanche_effect(cbc_encrypt, plaintext[:], \"R\" + plaintext[1:], key, sub_key, iv)\n",
    "print(avalanche_effect)\n",
    "\n",
    "\n",
    "res = []\n",
    "for bs in [4, 8, 10, 12, 16]:\n",
    "    iv = get_iv(bs)\n",
    "    res.append((bs, *analyze_avalanche_effect(cbc_encrypt, plaintext[:], \"R\" + plaintext[1:], key, sub_key, iv)))\n",
    "\n",
    "# Trying CBC with different block sizes\n",
    "print(\"CBC with different block_sizes\")\n",
    "\n",
    "for bs, avalanche_effect, execution_time, original, changed in res:\n",
    "    print(\n",
    "f\"\"\"\n",
    "Block size: {bs}\n",
    "Avalanche Effect: {avalanche_effect:2f}\n",
    "Execution time: {execution_time}\n",
    "Original: {original}\n",
    ".Changed: {changed}\n",
    "\"\"\"\n",
    "    )\n",
    "\n",
    "# We can see that the avalanch effect diminished with the block size\n",
    "\n"
   ]
  },
  {
   "cell_type": "code",
   "execution_count": 19,
   "metadata": {},
   "outputs": [
    {
     "data": {
      "text/plain": [
       "Text(0.5, 1.0, 'Avalanche Effect for different block sizes')"
      ]
     },
     "execution_count": 19,
     "metadata": {},
     "output_type": "execute_result"
    },
    {
     "data": {
      "image/png": "[encoded data removed]",
      "text/plain": [
       "<Figure size 640x480 with 1 Axes>"
      ]
     },
     "metadata": {},
     "output_type": "display_data"
    }
   ],
   "source": [
    "\n",
    "plt.plot([r[0] for r in res], [r[1] for r in res])\n",
    "plt.xlabel(\"Block Size\")\n",
    "plt.ylabel(\"Avalanche Effect (%)\")\n",
    "plt.title(\"Avalanche Effect for different block sizes\")"
   ]
  }
 ],
 "metadata": {
  "kernelspec": {
   "display_name": "net-sec",
   "language": "python",
   "name": "python3"
  },
  "language_info": {
   "codemirror_mode": {
    "name": "ipython",
    "version": 3
   },
   "file_extension": ".py",
   "mimetype": "text/x-python",
   "name": "python",
   "nbconvert_exporter": "python",
   "pygments_lexer": "ipython3",
   "version": "3.11.9"
  }
 },
 "nbformat": 4,
 "nbformat_minor": 2
}
